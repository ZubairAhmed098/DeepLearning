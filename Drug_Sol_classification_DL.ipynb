{
  "nbformat": 4,
  "nbformat_minor": 0,
  "metadata": {
    "colab": {
      "provenance": [],
      "gpuType": "T4"
    },
    "kernelspec": {
      "name": "python3",
      "display_name": "Python 3"
    },
    "language_info": {
      "name": "python"
    },
    "accelerator": "GPU"
  },
  "cells": [
    {
      "cell_type": "code",
      "source": [
        "from google.colab import drive\n",
        "drive.mount('/content/drive')"
      ],
      "metadata": {
        "colab": {
          "base_uri": "https://localhost:8080/"
        },
        "id": "wtuPTOqTEMq3",
        "outputId": "56d27fba-521c-4c10-820b-f2bc69af7959"
      },
      "execution_count": null,
      "outputs": [
        {
          "output_type": "stream",
          "name": "stdout",
          "text": [
            "Mounted at /content/drive\n"
          ]
        }
      ]
    },
    {
      "cell_type": "code",
      "source": [
        "!mkdir -p /content/drive/MyDrive/Deep_Learning/ # only once"
      ],
      "metadata": {
        "id": "6EIYMoeqXAqh"
      },
      "execution_count": null,
      "outputs": []
    },
    {
      "cell_type": "code",
      "source": [
        "!cp -f curated-solubility-dataset.csv /content/drive/MyDrive/Deep_Learning/ # only once"
      ],
      "metadata": {
        "id": "ou0L-jyeXGcI"
      },
      "execution_count": null,
      "outputs": []
    },
    {
      "cell_type": "code",
      "source": [
        "!pip -q install torch-geometric\n",
        "!pip -q install pysmiles"
      ],
      "metadata": {
        "id": "ZIUqTni_NwwZ",
        "colab": {
          "base_uri": "https://localhost:8080/"
        },
        "outputId": "ee9fc044-ea41-4ca7-dff7-4fc1d361722d"
      },
      "execution_count": null,
      "outputs": [
        {
          "output_type": "stream",
          "name": "stdout",
          "text": [
            "\u001b[?25l     \u001b[90m━━━━━━━━━━━━━━━━━━━━━━━━━━━━━━━━━━━━━━━━\u001b[0m \u001b[32m0.0/63.1 kB\u001b[0m \u001b[31m?\u001b[0m eta \u001b[36m-:--:--\u001b[0m\r\u001b[2K     \u001b[90m━━━━━━━━━━━━━━━━━━━━━━━━━━━━━━━━━━━━━━━━\u001b[0m \u001b[32m63.1/63.1 kB\u001b[0m \u001b[31m5.1 MB/s\u001b[0m eta \u001b[36m0:00:00\u001b[0m\n",
            "\u001b[2K   \u001b[90m━━━━━━━━━━━━━━━━━━━━━━━━━━━━━━━━━━━━━━━━\u001b[0m \u001b[32m1.1/1.1 MB\u001b[0m \u001b[31m54.1 MB/s\u001b[0m eta \u001b[36m0:00:00\u001b[0m\n",
            "\u001b[2K   \u001b[90m━━━━━━━━━━━━━━━━━━━━━━━━━━━━━━━━━━━━━━━━\u001b[0m \u001b[32m109.0/109.0 kB\u001b[0m \u001b[31m9.4 MB/s\u001b[0m eta \u001b[36m0:00:00\u001b[0m\n",
            "\u001b[?25h"
          ]
        }
      ]
    },
    {
      "cell_type": "markdown",
      "source": [
        "# Code"
      ],
      "metadata": {
        "id": "oiMUoRM3dWCp"
      }
    },
    {
      "cell_type": "code",
      "source": [
        "import numpy as np\n",
        "import random\n",
        "import matplotlib.pyplot as plt\n",
        "from pysmiles import read_smiles\n",
        "import pandas as pd\n",
        "import logging\n",
        "from tqdm import tqdm\n",
        "import torch\n",
        "from torch.nn import Sequential as Seq, Linear, ReLU, CrossEntropyLoss\n",
        "import torch.nn.functional as F\n",
        "from torch_geometric.nn import MessagePassing, GCNConv\n",
        "from torch_geometric.utils import remove_self_loops, add_self_loops, degree\n",
        "from torch_geometric.data import Data"
      ],
      "metadata": {
        "id": "4Z5hcyGgOggh"
      },
      "execution_count": null,
      "outputs": []
    },
    {
      "cell_type": "code",
      "source": [
        "logging.getLogger('pysmiles').setLevel(logging.CRITICAL)  # Anything higher than warning\n",
        "\n",
        "# Load dataset\n",
        "data_frame = pd.read_csv('/content/drive/MyDrive/Deep_Learning/curated-solubility-dataset.csv')  # read dataset\n",
        "smiles_list = list(data_frame['SMILES'])  # get smiles strings from file\n",
        "solubility_values = np.asarray(data_frame['Solubility'])  # get solubility values from file\n",
        "\n",
        "# List of all elements in the dataset\n",
        "element_list = ['K', 'Y', 'V', 'Sm', 'Dy', 'In', 'Lu', 'Hg', 'Co', 'Mg',\n",
        "                'Cu', 'Rh', 'Hf', 'O', 'As', 'Ge', 'Au', 'Mo', 'Br', 'Ce',\n",
        "                'Zr', 'Ag', 'Ba', 'N', 'Cr', 'Sr', 'Fe', 'Gd', 'I', 'Al',\n",
        "                'B', 'Se', 'Pr', 'Te', 'Cd', 'Pd', 'Si', 'Zn', 'Pb', 'Sn',\n",
        "                'Cl', 'Mn', 'Cs', 'Na', 'S', 'Ti', 'Ni', 'Ru', 'Ca', 'Nd',\n",
        "                'W', 'H', 'Li', 'Sb', 'Bi', 'La', 'Pt', 'Nb', 'P', 'F', 'C']"
      ],
      "metadata": {
        "id": "Na0csI-gOebi"
      },
      "execution_count": null,
      "outputs": []
    },
    {
      "cell_type": "code",
      "source": [
        "# Convert element to a one-hot vector of dimension len(element_list)\n",
        "def convert_element_to_onehot(element):\n",
        "    onehot_output = []\n",
        "    for i in range(len(element)):\n",
        "        vector = np.zeros(len(element_list))\n",
        "        vector[element_list.index(element[i])] = 1.0\n",
        "        onehot_output.append(vector)\n",
        "    return np.asarray(onehot_output)\n",
        "\n",
        "# Convert solubility value to one-hot class vector\n",
        "def convert_value_to_class(value):\n",
        "    if value < -3.65:  # insoluble\n",
        "        return [1, 0, 0]\n",
        "    elif value < -1.69:  # slightly soluble\n",
        "        return [0, 1, 0]\n",
        "    else:  # soluble\n",
        "        return [0, 0, 1]\n",
        "\n",
        "# Process SMILES strings into graphs\n",
        "node_features = []\n",
        "edge_indices = []\n",
        "for smiles in tqdm(smiles_list):\n",
        "    try:\n",
        "        graph = read_smiles(smiles, explicit_hydrogen=True)\n",
        "        feature_vector = convert_element_to_onehot(np.asarray(graph.nodes(data='element'))[:, 1])\n",
        "        edges = np.asarray(graph.edges)\n",
        "        index_array = np.asarray([edges[:, 0], edges[:, 1]])  # reshape indices into shape [2, -1]\n",
        "        node_features.append(feature_vector)\n",
        "        edge_indices.append(index_array)\n",
        "    except:\n",
        "        pass\n"
      ],
      "metadata": {
        "colab": {
          "base_uri": "https://localhost:8080/"
        },
        "id": "RW6bHJjBOa_h",
        "outputId": "28536158-b980-47ac-b48c-2a01ea7ec6e2"
      },
      "execution_count": null,
      "outputs": [
        {
          "output_type": "stream",
          "name": "stderr",
          "text": [
            "100%|██████████| 9982/9982 [00:51<00:00, 193.07it/s]\n"
          ]
        }
      ]
    },
    {
      "cell_type": "code",
      "source": [
        "# Generate Data objects\n",
        "data_objects = []\n",
        "\n",
        "# Process graphs into torch_geometric Data objects\n",
        "for i in tqdm(range(len(node_features))):\n",
        "    x_tensor = torch.tensor(node_features[i], dtype=torch.float)  # convert node features into torch tensor\n",
        "    edges_tensor = torch.tensor(edge_indices[i], dtype=torch.long)  # convert edge index into torch tensor\n",
        "    y_tensor = torch.tensor([convert_value_to_class(solubility_values[i])], dtype=torch.float)  # change shape of label and convert to tensor\n",
        "    data_objects.append(Data(x=x_tensor, edge_index=edges_tensor, y=y_tensor))  # add the Data object to the list of data\n",
        "random.shuffle(data_objects)\n",
        "train_data = data_objects[:int(len(data_objects) * 0.8)]  # train set\n",
        "test_data = data_objects[int(len(data_objects) * 0.8):]  # val set"
      ],
      "metadata": {
        "colab": {
          "base_uri": "https://localhost:8080/"
        },
        "id": "Ii5pLH3zOUjA",
        "outputId": "b7185dbf-69c9-42ac-f179-3c9b56c013c5"
      },
      "execution_count": null,
      "outputs": [
        {
          "output_type": "stream",
          "name": "stderr",
          "text": [
            "100%|██████████| 9574/9574 [00:00<00:00, 17449.09it/s]\n"
          ]
        }
      ]
    },
    {
      "cell_type": "code",
      "source": [
        "# Defining the message passing network\n",
        "class GraphNetwork(torch.nn.Module):\n",
        "    def __init__(self):\n",
        "        super(GraphNetwork, self).__init__()\n",
        "        self.conv1 = GCNConv(61, 32)\n",
        "        self.conv2 = GCNConv(32, 32)\n",
        "        self.conv3 = GCNConv(32, 32)\n",
        "        self.conv4 = GCNConv(32, 32)\n",
        "        self.fc1 = Linear(32, 16)\n",
        "        self.fc2 = Linear(16, 3)\n",
        "\n",
        "    def forward(self, data):\n",
        "        x, edge_index = data.x, data.edge_index\n",
        "\n",
        "        x = self.conv1(x, edge_index)\n",
        "        x = F.relu(x)\n",
        "        x = F.dropout(x, p=0.25, training=self.training)\n",
        "\n",
        "        x = self.conv2(x, edge_index)\n",
        "        x = F.relu(x)\n",
        "        x = F.dropout(x, p=0.25, training=self.training)\n",
        "\n",
        "        x = self.conv3(x, edge_index)\n",
        "        x = F.relu(x)\n",
        "        x = F.dropout(x, p=0.25, training=self.training)\n",
        "\n",
        "        x = self.conv4(x, edge_index)\n",
        "        x = F.relu(x)\n",
        "\n",
        "        x = torch.sum(x, dim=0)\n",
        "        x = self.fc1(x)\n",
        "        x = F.relu(x)\n",
        "\n",
        "        x = self.fc2(x)\n",
        "\n",
        "        return x"
      ],
      "metadata": {
        "id": "Hq07IBGWOJ84"
      },
      "execution_count": null,
      "outputs": []
    },
    {
      "cell_type": "code",
      "source": [
        "# Setting up the device and creating the graph network model\n",
        "device = torch.device('cuda' if torch.cuda.is_available() else 'cpu')  # use CUDA if available\n",
        "model_instance = GraphNetwork().to(device)  # create network and send to the device memory\n",
        "optimizer_instance = torch.optim.Adam(model_instance.parameters(), lr=0.001, weight_decay=1e-4)  # use Adam optimizer\n",
        "loss_function = CrossEntropyLoss()  # define loss"
      ],
      "metadata": {
        "id": "SsQrHSXyqhff"
      },
      "execution_count": null,
      "outputs": []
    },
    {
      "cell_type": "code",
      "source": [
        "# Training model\n",
        "model_instance.train()  # set model to training mode\n",
        "for epoch in range(30):  # run for epochs of training\n",
        "    total_loss = 0  # used to compute average loss in an epoch\n",
        "    correct_predictions = 0\n",
        "    random.shuffle(train_data)  # shuffle the training data each epoch\n",
        "    for data_point in tqdm(train_data):  # go over each training point\n",
        "        data_tensor = data_point.to(device)  # send data to device\n",
        "        optimizer_instance.zero_grad()  # zero gradients\n",
        "        output = model_instance(data_tensor)  # evaluate data point\n",
        "        if torch.argmax(output) == torch.argmax(data_tensor.y):  # if prediction is correct, increment counter for accuracy calculation\n",
        "            correct_predictions += 1\n",
        "        loss_value = loss_function(torch.reshape(output, [1, 3]), torch.reshape(torch.argmax(data_tensor.y), [1]))  # compute mean squared error loss\n",
        "        total_loss += float(loss_value)  # add loss value to aggregate loss\n",
        "        loss_value.backward()  # compute gradients\n",
        "        optimizer_instance.step()  # apply optimization\n",
        "    print('Epoch: {:03d}, Average loss: {:.5f}, Accuracy: {:.5f}'.format(epoch, total_loss / len(train_data), correct_predictions / len(train_data)))"
      ],
      "metadata": {
        "colab": {
          "base_uri": "https://localhost:8080/"
        },
        "id": "kMqTjSA2ODQR",
        "outputId": "c9460ef4-30e5-4fe5-9d56-ca283c0b293b",
        "collapsed": true
      },
      "execution_count": null,
      "outputs": [
        {
          "output_type": "stream",
          "name": "stderr",
          "text": [
            "100%|██████████| 7659/7659 [00:51<00:00, 149.23it/s]\n"
          ]
        },
        {
          "output_type": "stream",
          "name": "stdout",
          "text": [
            "Epoch: 000, Average loss: 1.10028, Accuracy: 0.33751\n"
          ]
        },
        {
          "output_type": "stream",
          "name": "stderr",
          "text": [
            "100%|██████████| 7659/7659 [00:46<00:00, 166.38it/s]\n"
          ]
        },
        {
          "output_type": "stream",
          "name": "stdout",
          "text": [
            "Epoch: 001, Average loss: 1.09663, Accuracy: 0.34913\n"
          ]
        },
        {
          "output_type": "stream",
          "name": "stderr",
          "text": [
            "100%|██████████| 7659/7659 [00:44<00:00, 172.67it/s]\n"
          ]
        },
        {
          "output_type": "stream",
          "name": "stdout",
          "text": [
            "Epoch: 002, Average loss: 1.09605, Accuracy: 0.36101\n"
          ]
        },
        {
          "output_type": "stream",
          "name": "stderr",
          "text": [
            "100%|██████████| 7659/7659 [00:44<00:00, 173.62it/s]\n"
          ]
        },
        {
          "output_type": "stream",
          "name": "stdout",
          "text": [
            "Epoch: 003, Average loss: 1.09520, Accuracy: 0.36454\n"
          ]
        },
        {
          "output_type": "stream",
          "name": "stderr",
          "text": [
            "100%|██████████| 7659/7659 [00:43<00:00, 176.02it/s]\n"
          ]
        },
        {
          "output_type": "stream",
          "name": "stdout",
          "text": [
            "Epoch: 004, Average loss: 1.09545, Accuracy: 0.36924\n"
          ]
        },
        {
          "output_type": "stream",
          "name": "stderr",
          "text": [
            "100%|██████████| 7659/7659 [00:43<00:00, 177.76it/s]\n"
          ]
        },
        {
          "output_type": "stream",
          "name": "stdout",
          "text": [
            "Epoch: 005, Average loss: 1.09526, Accuracy: 0.36676\n"
          ]
        },
        {
          "output_type": "stream",
          "name": "stderr",
          "text": [
            "100%|██████████| 7659/7659 [00:43<00:00, 174.47it/s]\n"
          ]
        },
        {
          "output_type": "stream",
          "name": "stdout",
          "text": [
            "Epoch: 006, Average loss: 1.09482, Accuracy: 0.35932\n"
          ]
        },
        {
          "output_type": "stream",
          "name": "stderr",
          "text": [
            "100%|██████████| 7659/7659 [00:43<00:00, 177.56it/s]\n"
          ]
        },
        {
          "output_type": "stream",
          "name": "stdout",
          "text": [
            "Epoch: 007, Average loss: 1.09452, Accuracy: 0.36924\n"
          ]
        },
        {
          "output_type": "stream",
          "name": "stderr",
          "text": [
            "100%|██████████| 7659/7659 [00:42<00:00, 178.66it/s]\n"
          ]
        },
        {
          "output_type": "stream",
          "name": "stdout",
          "text": [
            "Epoch: 008, Average loss: 1.09536, Accuracy: 0.36689\n"
          ]
        },
        {
          "output_type": "stream",
          "name": "stderr",
          "text": [
            "100%|██████████| 7659/7659 [00:43<00:00, 175.77it/s]\n"
          ]
        },
        {
          "output_type": "stream",
          "name": "stdout",
          "text": [
            "Epoch: 009, Average loss: 1.09713, Accuracy: 0.34639\n"
          ]
        },
        {
          "output_type": "stream",
          "name": "stderr",
          "text": [
            "100%|██████████| 7659/7659 [00:43<00:00, 175.94it/s]\n"
          ]
        },
        {
          "output_type": "stream",
          "name": "stdout",
          "text": [
            "Epoch: 010, Average loss: 1.09655, Accuracy: 0.35618\n"
          ]
        },
        {
          "output_type": "stream",
          "name": "stderr",
          "text": [
            "100%|██████████| 7659/7659 [00:42<00:00, 178.41it/s]\n"
          ]
        },
        {
          "output_type": "stream",
          "name": "stdout",
          "text": [
            "Epoch: 011, Average loss: 1.09909, Accuracy: 0.34130\n"
          ]
        },
        {
          "output_type": "stream",
          "name": "stderr",
          "text": [
            "100%|██████████| 7659/7659 [00:43<00:00, 175.53it/s]\n"
          ]
        },
        {
          "output_type": "stream",
          "name": "stdout",
          "text": [
            "Epoch: 012, Average loss: 1.09915, Accuracy: 0.33346\n"
          ]
        },
        {
          "output_type": "stream",
          "name": "stderr",
          "text": [
            "100%|██████████| 7659/7659 [00:42<00:00, 178.16it/s]\n"
          ]
        },
        {
          "output_type": "stream",
          "name": "stdout",
          "text": [
            "Epoch: 013, Average loss: 1.09880, Accuracy: 0.33529\n"
          ]
        },
        {
          "output_type": "stream",
          "name": "stderr",
          "text": [
            "100%|██████████| 7659/7659 [00:43<00:00, 178.04it/s]\n"
          ]
        },
        {
          "output_type": "stream",
          "name": "stdout",
          "text": [
            "Epoch: 014, Average loss: 1.09912, Accuracy: 0.32824\n"
          ]
        },
        {
          "output_type": "stream",
          "name": "stderr",
          "text": [
            "100%|██████████| 7659/7659 [00:43<00:00, 176.24it/s]\n"
          ]
        },
        {
          "output_type": "stream",
          "name": "stdout",
          "text": [
            "Epoch: 015, Average loss: 1.09875, Accuracy: 0.33608\n"
          ]
        },
        {
          "output_type": "stream",
          "name": "stderr",
          "text": [
            "100%|██████████| 7659/7659 [00:42<00:00, 178.88it/s]\n"
          ]
        },
        {
          "output_type": "stream",
          "name": "stdout",
          "text": [
            "Epoch: 016, Average loss: 1.09921, Accuracy: 0.32694\n"
          ]
        },
        {
          "output_type": "stream",
          "name": "stderr",
          "text": [
            "100%|██████████| 7659/7659 [00:44<00:00, 173.67it/s]\n"
          ]
        },
        {
          "output_type": "stream",
          "name": "stdout",
          "text": [
            "Epoch: 017, Average loss: 1.09907, Accuracy: 0.33503\n"
          ]
        },
        {
          "output_type": "stream",
          "name": "stderr",
          "text": [
            "100%|██████████| 7659/7659 [00:43<00:00, 178.02it/s]\n"
          ]
        },
        {
          "output_type": "stream",
          "name": "stdout",
          "text": [
            "Epoch: 018, Average loss: 1.09899, Accuracy: 0.33359\n"
          ]
        },
        {
          "output_type": "stream",
          "name": "stderr",
          "text": [
            "100%|██████████| 7659/7659 [00:42<00:00, 179.11it/s]\n"
          ]
        },
        {
          "output_type": "stream",
          "name": "stdout",
          "text": [
            "Epoch: 019, Average loss: 1.09900, Accuracy: 0.34012\n"
          ]
        },
        {
          "output_type": "stream",
          "name": "stderr",
          "text": [
            "100%|██████████| 7659/7659 [00:43<00:00, 174.93it/s]\n"
          ]
        },
        {
          "output_type": "stream",
          "name": "stdout",
          "text": [
            "Epoch: 020, Average loss: 1.09891, Accuracy: 0.33516\n"
          ]
        },
        {
          "output_type": "stream",
          "name": "stderr",
          "text": [
            "100%|██████████| 7659/7659 [00:43<00:00, 176.93it/s]\n"
          ]
        },
        {
          "output_type": "stream",
          "name": "stdout",
          "text": [
            "Epoch: 021, Average loss: 1.09896, Accuracy: 0.33712\n"
          ]
        },
        {
          "output_type": "stream",
          "name": "stderr",
          "text": [
            "100%|██████████| 7659/7659 [00:43<00:00, 175.95it/s]\n"
          ]
        },
        {
          "output_type": "stream",
          "name": "stdout",
          "text": [
            "Epoch: 022, Average loss: 1.09879, Accuracy: 0.34326\n"
          ]
        },
        {
          "output_type": "stream",
          "name": "stderr",
          "text": [
            "100%|██████████| 7659/7659 [00:43<00:00, 175.51it/s]\n"
          ]
        },
        {
          "output_type": "stream",
          "name": "stdout",
          "text": [
            "Epoch: 023, Average loss: 1.09908, Accuracy: 0.32968\n"
          ]
        },
        {
          "output_type": "stream",
          "name": "stderr",
          "text": [
            "100%|██████████| 7659/7659 [00:43<00:00, 174.83it/s]\n"
          ]
        },
        {
          "output_type": "stream",
          "name": "stdout",
          "text": [
            "Epoch: 024, Average loss: 1.09905, Accuracy: 0.33921\n"
          ]
        },
        {
          "output_type": "stream",
          "name": "stderr",
          "text": [
            "100%|██████████| 7659/7659 [00:43<00:00, 177.30it/s]\n"
          ]
        },
        {
          "output_type": "stream",
          "name": "stdout",
          "text": [
            "Epoch: 025, Average loss: 1.09898, Accuracy: 0.33281\n"
          ]
        },
        {
          "output_type": "stream",
          "name": "stderr",
          "text": [
            "100%|██████████| 7659/7659 [00:43<00:00, 176.90it/s]\n"
          ]
        },
        {
          "output_type": "stream",
          "name": "stdout",
          "text": [
            "Epoch: 026, Average loss: 1.09910, Accuracy: 0.32824\n"
          ]
        },
        {
          "output_type": "stream",
          "name": "stderr",
          "text": [
            "100%|██████████| 7659/7659 [00:42<00:00, 178.21it/s]\n"
          ]
        },
        {
          "output_type": "stream",
          "name": "stdout",
          "text": [
            "Epoch: 027, Average loss: 1.09898, Accuracy: 0.33386\n"
          ]
        },
        {
          "output_type": "stream",
          "name": "stderr",
          "text": [
            "100%|██████████| 7659/7659 [00:43<00:00, 175.85it/s]\n"
          ]
        },
        {
          "output_type": "stream",
          "name": "stdout",
          "text": [
            "Epoch: 028, Average loss: 1.09899, Accuracy: 0.33790\n"
          ]
        },
        {
          "output_type": "stream",
          "name": "stderr",
          "text": [
            "100%|██████████| 7659/7659 [00:43<00:00, 178.06it/s]"
          ]
        },
        {
          "output_type": "stream",
          "name": "stdout",
          "text": [
            "Epoch: 029, Average loss: 1.09887, Accuracy: 0.33477\n"
          ]
        },
        {
          "output_type": "stream",
          "name": "stderr",
          "text": [
            "\n"
          ]
        }
      ]
    },
    {
      "cell_type": "code",
      "source": [
        "import matplotlib.pyplot as plt\n",
        "\n",
        "# Initialize lists to store loss and accuracy per epoch\n",
        "losses = []\n",
        "accuracies = []\n",
        "\n",
        "# Training loop\n",
        "model_instance.train()\n",
        "for epoch in range(30):\n",
        "    total_loss = 0\n",
        "    correct_predictions = 0\n",
        "    random.shuffle(train_data)\n",
        "\n",
        "    for data_point in tqdm(train_data):\n",
        "        data_tensor = data_point.to(device)\n",
        "        optimizer_instance.zero_grad()\n",
        "        output = model_instance(data_tensor)\n",
        "\n",
        "        if torch.argmax(output) == torch.argmax(data_tensor.y):\n",
        "            correct_predictions += 1\n",
        "\n",
        "        loss_value = loss_function(\n",
        "            torch.reshape(output, [1, 3]),\n",
        "            torch.reshape(torch.argmax(data_tensor.y), [1])\n",
        "        )\n",
        "\n",
        "        total_loss += float(loss_value)\n",
        "        loss_value.backward()\n",
        "        optimizer_instance.step()\n",
        "\n",
        "    # Store values for plotting\n",
        "    avg_loss = total_loss / len(train_data)\n",
        "    accuracy = correct_predictions / len(train_data)\n",
        "    losses.append(avg_loss)\n",
        "    accuracies.append(accuracy)\n",
        "\n",
        "    print(f\"Epoch: {epoch+1:02d}, Average Loss: {avg_loss:.5f}, Accuracy: {accuracy:.5f}\")"
      ],
      "metadata": {
        "colab": {
          "base_uri": "https://localhost:8080/"
        },
        "collapsed": true,
        "id": "w8ARf6uJp9gH",
        "outputId": "c756fb19-8bf8-4523-d77f-7da45c99084d"
      },
      "execution_count": null,
      "outputs": [
        {
          "output_type": "stream",
          "name": "stderr",
          "text": [
            "100%|██████████| 7659/7659 [01:09<00:00, 110.69it/s]\n"
          ]
        },
        {
          "output_type": "stream",
          "name": "stdout",
          "text": [
            "Epoch: 01, Average Loss: 1.09893, Accuracy: 0.33359\n"
          ]
        },
        {
          "output_type": "stream",
          "name": "stderr",
          "text": [
            "100%|██████████| 7659/7659 [00:58<00:00, 131.60it/s]\n"
          ]
        },
        {
          "output_type": "stream",
          "name": "stdout",
          "text": [
            "Epoch: 02, Average Loss: 1.09880, Accuracy: 0.33464\n"
          ]
        },
        {
          "output_type": "stream",
          "name": "stderr",
          "text": [
            "100%|██████████| 7659/7659 [01:11<00:00, 106.79it/s]\n"
          ]
        },
        {
          "output_type": "stream",
          "name": "stdout",
          "text": [
            "Epoch: 03, Average Loss: 1.09900, Accuracy: 0.33268\n"
          ]
        },
        {
          "output_type": "stream",
          "name": "stderr",
          "text": [
            "100%|██████████| 7659/7659 [00:57<00:00, 132.43it/s]\n"
          ]
        },
        {
          "output_type": "stream",
          "name": "stdout",
          "text": [
            "Epoch: 04, Average Loss: 1.09888, Accuracy: 0.33464\n"
          ]
        },
        {
          "output_type": "stream",
          "name": "stderr",
          "text": [
            "100%|██████████| 7659/7659 [00:58<00:00, 130.42it/s]\n"
          ]
        },
        {
          "output_type": "stream",
          "name": "stdout",
          "text": [
            "Epoch: 05, Average Loss: 1.09848, Accuracy: 0.33751\n"
          ]
        },
        {
          "output_type": "stream",
          "name": "stderr",
          "text": [
            "100%|██████████| 7659/7659 [01:02<00:00, 121.87it/s]\n"
          ]
        },
        {
          "output_type": "stream",
          "name": "stdout",
          "text": [
            "Epoch: 06, Average Loss: 1.09875, Accuracy: 0.34587\n"
          ]
        },
        {
          "output_type": "stream",
          "name": "stderr",
          "text": [
            "100%|██████████| 7659/7659 [01:02<00:00, 121.78it/s]\n"
          ]
        },
        {
          "output_type": "stream",
          "name": "stdout",
          "text": [
            "Epoch: 07, Average Loss: 1.09901, Accuracy: 0.33542\n"
          ]
        },
        {
          "output_type": "stream",
          "name": "stderr",
          "text": [
            "100%|██████████| 7659/7659 [00:56<00:00, 136.76it/s]\n"
          ]
        },
        {
          "output_type": "stream",
          "name": "stdout",
          "text": [
            "Epoch: 08, Average Loss: 1.09883, Accuracy: 0.33908\n"
          ]
        },
        {
          "output_type": "stream",
          "name": "stderr",
          "text": [
            "100%|██████████| 7659/7659 [00:58<00:00, 131.20it/s]\n"
          ]
        },
        {
          "output_type": "stream",
          "name": "stdout",
          "text": [
            "Epoch: 09, Average Loss: 1.09887, Accuracy: 0.33999\n"
          ]
        },
        {
          "output_type": "stream",
          "name": "stderr",
          "text": [
            "100%|██████████| 7659/7659 [01:06<00:00, 114.97it/s]\n"
          ]
        },
        {
          "output_type": "stream",
          "name": "stdout",
          "text": [
            "Epoch: 10, Average Loss: 1.09896, Accuracy: 0.33934\n"
          ]
        },
        {
          "output_type": "stream",
          "name": "stderr",
          "text": [
            "100%|██████████| 7659/7659 [00:58<00:00, 130.19it/s]\n"
          ]
        },
        {
          "output_type": "stream",
          "name": "stdout",
          "text": [
            "Epoch: 11, Average Loss: 1.09892, Accuracy: 0.33490\n"
          ]
        },
        {
          "output_type": "stream",
          "name": "stderr",
          "text": [
            "100%|██████████| 7659/7659 [00:58<00:00, 130.16it/s]\n"
          ]
        },
        {
          "output_type": "stream",
          "name": "stdout",
          "text": [
            "Epoch: 12, Average Loss: 1.09876, Accuracy: 0.34091\n"
          ]
        },
        {
          "output_type": "stream",
          "name": "stderr",
          "text": [
            "100%|██████████| 7659/7659 [00:52<00:00, 145.64it/s]\n"
          ]
        },
        {
          "output_type": "stream",
          "name": "stdout",
          "text": [
            "Epoch: 13, Average Loss: 1.09893, Accuracy: 0.33568\n"
          ]
        },
        {
          "output_type": "stream",
          "name": "stderr",
          "text": [
            "100%|██████████| 7659/7659 [00:46<00:00, 163.37it/s]\n"
          ]
        },
        {
          "output_type": "stream",
          "name": "stdout",
          "text": [
            "Epoch: 14, Average Loss: 1.09886, Accuracy: 0.34182\n"
          ]
        },
        {
          "output_type": "stream",
          "name": "stderr",
          "text": [
            "100%|██████████| 7659/7659 [00:54<00:00, 141.26it/s]\n"
          ]
        },
        {
          "output_type": "stream",
          "name": "stdout",
          "text": [
            "Epoch: 15, Average Loss: 1.09896, Accuracy: 0.33529\n"
          ]
        },
        {
          "output_type": "stream",
          "name": "stderr",
          "text": [
            "100%|██████████| 7659/7659 [00:47<00:00, 162.30it/s]\n"
          ]
        },
        {
          "output_type": "stream",
          "name": "stdout",
          "text": [
            "Epoch: 16, Average Loss: 1.09892, Accuracy: 0.34156\n"
          ]
        },
        {
          "output_type": "stream",
          "name": "stderr",
          "text": [
            "100%|██████████| 7659/7659 [00:47<00:00, 161.85it/s]\n"
          ]
        },
        {
          "output_type": "stream",
          "name": "stdout",
          "text": [
            "Epoch: 17, Average Loss: 1.09899, Accuracy: 0.33568\n"
          ]
        },
        {
          "output_type": "stream",
          "name": "stderr",
          "text": [
            "100%|██████████| 7659/7659 [00:48<00:00, 158.16it/s]\n"
          ]
        },
        {
          "output_type": "stream",
          "name": "stdout",
          "text": [
            "Epoch: 18, Average Loss: 1.09899, Accuracy: 0.33307\n"
          ]
        },
        {
          "output_type": "stream",
          "name": "stderr",
          "text": [
            "100%|██████████| 7659/7659 [00:49<00:00, 155.76it/s]\n"
          ]
        },
        {
          "output_type": "stream",
          "name": "stdout",
          "text": [
            "Epoch: 19, Average Loss: 1.09897, Accuracy: 0.33921\n"
          ]
        },
        {
          "output_type": "stream",
          "name": "stderr",
          "text": [
            "100%|██████████| 7659/7659 [00:47<00:00, 161.55it/s]\n"
          ]
        },
        {
          "output_type": "stream",
          "name": "stdout",
          "text": [
            "Epoch: 20, Average Loss: 1.09903, Accuracy: 0.33581\n"
          ]
        },
        {
          "output_type": "stream",
          "name": "stderr",
          "text": [
            "100%|██████████| 7659/7659 [00:47<00:00, 162.25it/s]\n"
          ]
        },
        {
          "output_type": "stream",
          "name": "stdout",
          "text": [
            "Epoch: 21, Average Loss: 1.09899, Accuracy: 0.33542\n"
          ]
        },
        {
          "output_type": "stream",
          "name": "stderr",
          "text": [
            "100%|██████████| 7659/7659 [00:47<00:00, 161.31it/s]\n"
          ]
        },
        {
          "output_type": "stream",
          "name": "stdout",
          "text": [
            "Epoch: 22, Average Loss: 1.09888, Accuracy: 0.34391\n"
          ]
        },
        {
          "output_type": "stream",
          "name": "stderr",
          "text": [
            "100%|██████████| 7659/7659 [00:46<00:00, 163.45it/s]\n"
          ]
        },
        {
          "output_type": "stream",
          "name": "stdout",
          "text": [
            "Epoch: 23, Average Loss: 1.09886, Accuracy: 0.34117\n"
          ]
        },
        {
          "output_type": "stream",
          "name": "stderr",
          "text": [
            "100%|██████████| 7659/7659 [00:47<00:00, 160.07it/s]\n"
          ]
        },
        {
          "output_type": "stream",
          "name": "stdout",
          "text": [
            "Epoch: 24, Average Loss: 1.09876, Accuracy: 0.34482\n"
          ]
        },
        {
          "output_type": "stream",
          "name": "stderr",
          "text": [
            "100%|██████████| 7659/7659 [00:46<00:00, 164.90it/s]\n"
          ]
        },
        {
          "output_type": "stream",
          "name": "stdout",
          "text": [
            "Epoch: 25, Average Loss: 1.09890, Accuracy: 0.33829\n"
          ]
        },
        {
          "output_type": "stream",
          "name": "stderr",
          "text": [
            "100%|██████████| 7659/7659 [00:46<00:00, 163.55it/s]\n"
          ]
        },
        {
          "output_type": "stream",
          "name": "stdout",
          "text": [
            "Epoch: 26, Average Loss: 1.09908, Accuracy: 0.33673\n"
          ]
        },
        {
          "output_type": "stream",
          "name": "stderr",
          "text": [
            "100%|██████████| 7659/7659 [00:46<00:00, 165.98it/s]\n"
          ]
        },
        {
          "output_type": "stream",
          "name": "stdout",
          "text": [
            "Epoch: 27, Average Loss: 1.09908, Accuracy: 0.33673\n"
          ]
        },
        {
          "output_type": "stream",
          "name": "stderr",
          "text": [
            "100%|██████████| 7659/7659 [00:46<00:00, 163.75it/s]\n"
          ]
        },
        {
          "output_type": "stream",
          "name": "stdout",
          "text": [
            "Epoch: 28, Average Loss: 1.09899, Accuracy: 0.33594\n"
          ]
        },
        {
          "output_type": "stream",
          "name": "stderr",
          "text": [
            "100%|██████████| 7659/7659 [00:46<00:00, 165.69it/s]\n"
          ]
        },
        {
          "output_type": "stream",
          "name": "stdout",
          "text": [
            "Epoch: 29, Average Loss: 1.09890, Accuracy: 0.33281\n"
          ]
        },
        {
          "output_type": "stream",
          "name": "stderr",
          "text": [
            "100%|██████████| 7659/7659 [00:47<00:00, 159.74it/s]"
          ]
        },
        {
          "output_type": "stream",
          "name": "stdout",
          "text": [
            "Epoch: 30, Average Loss: 1.09900, Accuracy: 0.33451\n"
          ]
        },
        {
          "output_type": "stream",
          "name": "stderr",
          "text": [
            "\n"
          ]
        }
      ]
    },
    {
      "cell_type": "code",
      "source": [
        "# ===============================\n",
        "# Plotting\n",
        "# ===============================\n",
        "plt.figure(figsize=(12, 5))\n",
        "\n",
        "plt.subplot(1, 2, 1)\n",
        "plt.plot(range(1, 31), losses, marker='o')\n",
        "plt.title('Training Loss Over Epochs')\n",
        "plt.xlabel('Epoch')\n",
        "plt.ylabel('Loss')\n",
        "\n",
        "plt.subplot(1, 2, 2)\n",
        "plt.plot(range(1, 31), accuracies, marker='o', color='green')\n",
        "plt.title('Training Accuracy Over Epochs')\n",
        "plt.xlabel('Epoch')\n",
        "plt.ylabel('Accuracy')\n",
        "\n",
        "plt.tight_layout()\n",
        "plt.show()"
      ],
      "metadata": {
        "colab": {
          "base_uri": "https://localhost:8080/",
          "height": 507
        },
        "id": "a6Gjwi4YqAeA",
        "outputId": "d68c4d06-b1a8-4151-8e65-58be5f7b8a4c"
      },
      "execution_count": null,
      "outputs": [
        {
          "output_type": "display_data",
          "data": {
            "text/plain": [
              "<Figure size 1200x500 with 2 Axes>"
            ],
            "image/png": "[encoded data removed]"
          },
          "metadata": {}
        }
      ]
    },
    {
      "cell_type": "code",
      "source": [
        "# Test the model and display a histogram of the outputs\n",
        "correct_predictions = 0\n",
        "model_instance.eval()\n",
        "predicted_classes = []\n",
        "for test_point in tqdm(test_data):\n",
        "    data_tensor = test_point.to(device)\n",
        "    output = model_instance(data_tensor)\n",
        "    if torch.argmax(output) == torch.argmax(data_tensor.y):  # if prediction is correct, increment counter for accuracy calculation\n",
        "        correct_predictions += 1\n",
        "    predicted_classes.append(torch.argmax(output).item())\n",
        "\n",
        "print(\"Test accuracy: \" + str(correct_predictions / len(test_data)))\n",
        "plt.hist(predicted_classes, bins=3)"
      ],
      "metadata": {
        "colab": {
          "base_uri": "https://localhost:8080/",
          "height": 520
        },
        "id": "GjWB_Nz8N9qA",
        "outputId": "c90c45ee-8022-4dc7-ae93-4668ab871c80"
      },
      "execution_count": null,
      "outputs": [
        {
          "output_type": "stream",
          "name": "stderr",
          "text": [
            "100%|██████████| 1915/1915 [00:06<00:00, 308.59it/s]\n"
          ]
        },
        {
          "output_type": "stream",
          "name": "stdout",
          "text": [
            "Test accuracy: 0.3368146214099217\n"
          ]
        },
        {
          "output_type": "execute_result",
          "data": {
            "text/plain": [
              "(array([   0., 1915.,    0.]),\n",
              " array([1.5       , 1.83333333, 2.16666667, 2.5       ]),\n",
              " <BarContainer object of 3 artists>)"
            ]
          },
          "metadata": {},
          "execution_count": 11
        },
        {
          "output_type": "display_data",
          "data": {
            "text/plain": [
              "<Figure size 640x480 with 1 Axes>"
            ],
            "image/png": "[encoded data removed]"
          },
          "metadata": {}
        }
      ]
    },
    {
      "cell_type": "code",
      "source": [
        "# Test SMILES string\n",
        "def evaluate_smiles(smiles_string):\n",
        "    class_labels = ['insoluble', 'slightly soluble', 'soluble']\n",
        "    graph = read_smiles(smiles_string, explicit_hydrogen=True)  # decode smiles string\n",
        "    feature_vector = convert_element_to_onehot(np.asarray(graph.nodes(data='element'))[:, 1])  # convert element to one-hot vector\n",
        "    edges = np.asarray(graph.edges)  # get edge array\n",
        "    index_array = np.asarray([edges[:, 0], edges[:, 1]])  # reformat edge array to torch geometric suitable format\n",
        "    data_instance = Data(x=torch.tensor(feature_vector, dtype=torch.float), edge_index=torch.tensor(index_array, dtype=torch.long))  # create torch geometry Data object\n",
        "    data_instance = data_instance.to(device)  # send data to device memory\n",
        "    model_instance.eval()  # set model to evaluate mode\n",
        "    print(class_labels[torch.argmax(torch.softmax(model_instance(data_instance), dim=0)).item()])  # evaluate the test data"
      ],
      "metadata": {
        "id": "6wCD9tUeN6aB"
      },
      "execution_count": null,
      "outputs": []
    },
    {
      "cell_type": "code",
      "source": [
        "evaluate_smiles('C(C(C1C(=C(C(=O)O1)O)O)O)O')  # test out the model on Vitamin C   soluble"
      ],
      "metadata": {
        "colab": {
          "base_uri": "https://localhost:8080/"
        },
        "id": "yeR78lvwN4VB",
        "outputId": "8327e304-b3c8-4644-eb77-94ef6778f5b3"
      },
      "execution_count": null,
      "outputs": [
        {
          "output_type": "stream",
          "name": "stdout",
          "text": [
            "soluble\n"
          ]
        }
      ]
    },
    {
      "cell_type": "code",
      "source": [
        "evaluate_smiles('CCCCCCCCCC') #insoluble"
      ],
      "metadata": {
        "colab": {
          "base_uri": "https://localhost:8080/"
        },
        "id": "UtQvt9E2Ouvu",
        "outputId": "f9f5ce38-4dbe-4f88-b39f-59b225ca6124"
      },
      "execution_count": null,
      "outputs": [
        {
          "output_type": "stream",
          "name": "stdout",
          "text": [
            "soluble\n"
          ]
        }
      ]
    },
    {
      "cell_type": "code",
      "source": [
        "evaluate_smiles('C(=O)(O)CCCCCCCCC(=O)(O)') #insoluble\n",
        "evaluate_smiles('O=C(C1=C(OC(C)=O)C=CC=C1)O') #soluble\n",
        "evaluate_smiles('c1ccccc1') #soluble\n",
        "evaluate_smiles('CC(C)(C)c1ccc(C(C)(C)C)cc1') #insoluble"
      ],
      "metadata": {
        "colab": {
          "base_uri": "https://localhost:8080/"
        },
        "id": "OXtgPWV6QxaK",
        "outputId": "345c3313-3a7f-4350-d58b-a9067b7b8c8f"
      },
      "execution_count": null,
      "outputs": [
        {
          "output_type": "stream",
          "name": "stdout",
          "text": [
            "soluble\n",
            "soluble\n",
            "soluble\n",
            "soluble\n"
          ]
        }
      ]
    },
    {
      "cell_type": "code",
      "source": [
        "evaluate_smiles('CCC(C)C1C(=O)NC2CSSCC(C(=O)NC(CSSCC(C(=O)NCC(=O)NC(C(=O)NC(C(=O)NC(C(=O)NC(C(=O)NC(C(=O)NC(C(=O)NC(C(=O)NC(C(=O)NC(C(=O)NC(C(=O)NC(CSSCC(NC(=O)C(NC(=O)C(NC(=O)C(NC(=O)C(NC(=O)C(NC(=O)C(NC(=O)C(NC(=O)C(NC2=O)CO)CC(C)C)CC3=CC=C(C=C3)O)CCC(=O)N)CC(C)C)CCC(=O)O)CC(=O)N)CC4=CC=C(C=C4)O)C(=O)NC(CC(=O)N)C(=O)O)C(=O)NCC(=O)NC(CCC(=O)O)C(=O)NC(CCCNC(=N)N)C(=O)NCC(=O)NC(CC5=CC=CC=C5)C(=O)NC(CC6=CC=CC=C6)C(=O)NC(CC7=CC=C(C=C7)O)C(=O)NC(C(C)O)C(=O)N8CCCC8C(=O)NC(CCCCN)C(=O)NC(C)C(=O)O)C(C)C)CC(C)C)CC9=CC=C(C=C9)O)CC(C)C)C)CCC(=O)O)C(C)C)CC(C)C)CC2=CN=CN2)CO)NC(=O)C(CC(C)C)NC(=O)C(CC2=CN=CN2)NC(=O)C(CCC(=O)N)NC(=O)C(CC(=O)N)NC(=O)C(C(C)C)NC(=O)C(CC2=CC=CC=C2)N)C(=O)NC(C(=O)NC(C(=O)N1)CO)C(C)O)NC(=O)C(CCC(=O)N)NC(=O)C(CCC(=O)O)NC(=O)C(C(C)C)NC(=O)C(C(C)CC)NC(=O)CN')\n",
        "# insoluble"
      ],
      "metadata": {
        "id": "efsYrEMURBxR",
        "colab": {
          "base_uri": "https://localhost:8080/"
        },
        "outputId": "7d581834-b13e-4b2a-cd13-63988bb976be"
      },
      "execution_count": null,
      "outputs": [
        {
          "output_type": "stream",
          "name": "stdout",
          "text": [
            "soluble\n"
          ]
        }
      ]
    },
    {
      "cell_type": "code",
      "source": [
        "# Save the model\n",
        "model_path = 'trained_graph_network.pth'  # Specify the path where you want to save the model\n",
        "torch.save(model_instance.state_dict(), model_path)  # Save the model's state_dict\n",
        "print(f'Model saved to {model_path}')"
      ],
      "metadata": {
        "colab": {
          "base_uri": "https://localhost:8080/"
        },
        "id": "dXKRcyrYPJeU",
        "outputId": "29624911-82b3-4894-f6cf-48156b5f132c"
      },
      "execution_count": null,
      "outputs": [
        {
          "output_type": "stream",
          "name": "stdout",
          "text": [
            "Model saved to trained_graph_network.pth\n"
          ]
        }
      ]
    },
    {
      "cell_type": "code",
      "source": [
        "!cp -f trained_graph_network.pth /content/drive/MyDrive/Deep_Learning/"
      ],
      "metadata": {
        "id": "X3fqQuZaKOE_"
      },
      "execution_count": null,
      "outputs": []
    },
    {
      "cell_type": "code",
      "source": [
        "!pwd"
      ],
      "metadata": {
        "colab": {
          "base_uri": "https://localhost:8080/"
        },
        "id": "alWYDlgaROAj",
        "outputId": "de4ecc85-ca8c-4fa0-cb2b-bdf625349e8a"
      },
      "execution_count": null,
      "outputs": [
        {
          "output_type": "stream",
          "name": "stdout",
          "text": [
            "/content\n"
          ]
        }
      ]
    },
    {
      "cell_type": "code",
      "source": [
        "!ls"
      ],
      "metadata": {
        "colab": {
          "base_uri": "https://localhost:8080/"
        },
        "id": "6mjBMS_WRQAi",
        "outputId": "c17e3cac-381a-445c-ee8e-6b3929224eca"
      },
      "execution_count": null,
      "outputs": [
        {
          "output_type": "stream",
          "name": "stdout",
          "text": [
            "curated-solubility-dataset.csv\tsample_data  trained_graph_network.pth\n"
          ]
        }
      ]
    },
    {
      "cell_type": "markdown",
      "source": [
        "# Transformers"
      ],
      "metadata": {
        "id": "aOpN2WMIjrQl"
      }
    },
    {
      "cell_type": "code",
      "source": [
        "# 1. Imports\n",
        "import pandas as pd\n",
        "import numpy as np\n",
        "from sklearn.model_selection import train_test_split\n",
        "from sklearn.metrics import accuracy_score, classification_report\n",
        "import torch\n",
        "from torch.utils.data import Dataset, DataLoader\n",
        "from transformers import AutoTokenizer, AutoModelForSequenceClassification, Trainer, TrainingArguments\n",
        "\n",
        "import os\n",
        "os.environ[\"WANDB_DISABLED\"] = \"true\"\n",
        "\n",
        "# 2. Load and label data\n",
        "df = pd.read_csv('/content/drive/MyDrive/Deep_Learning/curated-solubility-dataset.csv')\n",
        "def solubility_to_class(val):\n",
        "    if val < -3.65: return 0\n",
        "    elif val < -1.69: return 1\n",
        "    else: return 2\n",
        "df['label'] = df['Solubility'].apply(solubility_to_class)\n",
        "\n",
        "# 3. Train/test split\n",
        "train_df, test_df = train_test_split(df[['SMILES', 'label']], test_size=0.2, stratify=df['label'], random_state=42)\n",
        "\n",
        "# 4. Load ChemBERTa tokenizer and model\n",
        "model_name = \"seyonec/ChemBERTa-zinc-base-v1\"\n",
        "tokenizer = AutoTokenizer.from_pretrained(model_name)\n",
        "model = AutoModelForSequenceClassification.from_pretrained(model_name, num_labels=3)\n",
        "\n",
        "# 5. Custom dataset\n",
        "class SMILESDataset(Dataset):\n",
        "    def __init__(self, smiles, labels):\n",
        "        self.smiles = smiles\n",
        "        self.labels = labels\n",
        "\n",
        "    def __len__(self):\n",
        "        return len(self.smiles)\n",
        "\n",
        "    def __getitem__(self, idx):\n",
        "        encoding = tokenizer(self.smiles[idx], padding=\"max_length\", truncation=True, max_length=128, return_tensors=\"pt\")\n",
        "        encoding = {k: v.squeeze() for k, v in encoding.items()}\n",
        "        encoding['labels'] = torch.tensor(self.labels[idx], dtype=torch.long)\n",
        "        return encoding\n",
        "\n",
        "train_dataset = SMILESDataset(train_df['SMILES'].tolist(), train_df['label'].tolist())\n",
        "test_dataset = SMILESDataset(test_df['SMILES'].tolist(), test_df['label'].tolist())\n",
        "\n",
        "# 6. Training arguments\n",
        "training_args = TrainingArguments(\n",
        "    output_dir=\"./chemberta_model\",\n",
        "    evaluation_strategy=\"epoch\",\n",
        "    save_strategy=\"epoch\",\n",
        "    logging_dir=\"./logs\",\n",
        "    num_train_epochs=5,\n",
        "    per_device_train_batch_size=16,\n",
        "    per_device_eval_batch_size=64,\n",
        "    learning_rate=2e-5,\n",
        "    weight_decay=0.01,\n",
        "    load_best_model_at_end=True,\n",
        "    metric_for_best_model=\"accuracy\"\n",
        ")\n",
        "\n",
        "# 7. Metrics function\n",
        "def compute_metrics(eval_pred):\n",
        "    logits, labels = eval_pred\n",
        "    predictions = np.argmax(logits, axis=-1)\n",
        "    acc = accuracy_score(labels, predictions)\n",
        "    return {\"accuracy\": acc}\n",
        "\n",
        "# 8. Trainer\n",
        "trainer = Trainer(\n",
        "    model=model,\n",
        "    args=training_args,\n",
        "    train_dataset=train_dataset,\n",
        "    eval_dataset=test_dataset,\n",
        "    compute_metrics=compute_metrics\n",
        ")\n",
        "\n",
        "# 9. Train\n",
        "trainer.train()\n",
        "\n",
        "# 10. Evaluate\n",
        "eval_results = trainer.evaluate()\n",
        "print(\"Final Test Accuracy:\", eval_results[\"eval_accuracy\"])\n",
        "\n",
        "# 11. Classification report\n",
        "preds = trainer.predict(test_dataset)\n",
        "y_true = test_df['label'].tolist()\n",
        "y_pred = np.argmax(preds.predictions, axis=1)\n",
        "print(classification_report(y_true, y_pred, target_names=[\"Insoluble\", \"Slightly Soluble\", \"Soluble\"]))\n"
      ],
      "metadata": {
        "colab": {
          "base_uri": "https://localhost:8080/",
          "height": 509
        },
        "id": "s8eQhtbzfXr4",
        "outputId": "4cbbb2b3-4aba-40c6-bcaf-a92588978c95"
      },
      "execution_count": null,
      "outputs": [
        {
          "output_type": "stream",
          "name": "stderr",
          "text": [
            "Some weights of RobertaForSequenceClassification were not initialized from the model checkpoint at seyonec/ChemBERTa-zinc-base-v1 and are newly initialized: ['classifier.dense.bias', 'classifier.dense.weight', 'classifier.out_proj.bias', 'classifier.out_proj.weight']\n",
            "You should probably TRAIN this model on a down-stream task to be able to use it for predictions and inference.\n",
            "/usr/local/lib/python3.11/dist-packages/transformers/training_args.py:1611: FutureWarning: `evaluation_strategy` is deprecated and will be removed in version 4.46 of 🤗 Transformers. Use `eval_strategy` instead\n",
            "  warnings.warn(\n",
            "Using the `WANDB_DISABLED` environment variable is deprecated and will be removed in v5. Use the --report_to flag to control the integrations used for logging result (for instance --report_to none).\n"
          ]
        },
        {
          "output_type": "display_data",
          "data": {
            "text/plain": [
              "<IPython.core.display.HTML object>"
            ],
            "text/html": [
              "\n",
              "    <div>\n",
              "      \n",
              "      <progress value='2500' max='2500' style='width:300px; height:20px; vertical-align: middle;'></progress>\n",
              "      [2500/2500 08:16, Epoch 5/5]\n",
              "    </div>\n",
              "    <table border=\"1\" class=\"dataframe\">\n",
              "  <thead>\n",
              " <tr style=\"text-align: left;\">\n",
              "      <th>Epoch</th>\n",
              "      <th>Training Loss</th>\n",
              "      <th>Validation Loss</th>\n",
              "      <th>Accuracy</th>\n",
              "    </tr>\n",
              "  </thead>\n",
              "  <tbody>\n",
              "    <tr>\n",
              "      <td>1</td>\n",
              "      <td>0.794500</td>\n",
              "      <td>0.674205</td>\n",
              "      <td>0.693540</td>\n",
              "    </tr>\n",
              "    <tr>\n",
              "      <td>2</td>\n",
              "      <td>0.612300</td>\n",
              "      <td>0.607621</td>\n",
              "      <td>0.740110</td>\n",
              "    </tr>\n",
              "    <tr>\n",
              "      <td>3</td>\n",
              "      <td>0.512800</td>\n",
              "      <td>0.594429</td>\n",
              "      <td>0.753130</td>\n",
              "    </tr>\n",
              "    <tr>\n",
              "      <td>4</td>\n",
              "      <td>0.447200</td>\n",
              "      <td>0.589986</td>\n",
              "      <td>0.764647</td>\n",
              "    </tr>\n",
              "    <tr>\n",
              "      <td>5</td>\n",
              "      <td>0.396900</td>\n",
              "      <td>0.602668</td>\n",
              "      <td>0.762644</td>\n",
              "    </tr>\n",
              "  </tbody>\n",
              "</table><p>"
            ]
          },
          "metadata": {}
        },
        {
          "output_type": "display_data",
          "data": {
            "text/plain": [
              "<IPython.core.display.HTML object>"
            ],
            "text/html": []
          },
          "metadata": {}
        },
        {
          "output_type": "stream",
          "name": "stdout",
          "text": [
            "Final Test Accuracy: 0.7646469704556835\n",
            "                  precision    recall  f1-score   support\n",
            "\n",
            "       Insoluble       0.83      0.81      0.82       666\n",
            "Slightly Soluble       0.67      0.69      0.68       667\n",
            "         Soluble       0.80      0.80      0.80       664\n",
            "\n",
            "        accuracy                           0.76      1997\n",
            "       macro avg       0.77      0.76      0.77      1997\n",
            "    weighted avg       0.77      0.76      0.77      1997\n",
            "\n"
          ]
        }
      ]
    },
    {
      "cell_type": "code",
      "source": [
        "# Extract loss and accuracy logs properly\n",
        "epochs_loss = []\n",
        "train_loss = []\n",
        "epochs_acc = []\n",
        "eval_accuracy = []\n",
        "\n",
        "for log in trainer.state.log_history:\n",
        "    if 'loss' in log and 'epoch' in log:\n",
        "        epochs_loss.append(log[\"epoch\"])\n",
        "        train_loss.append(log[\"loss\"])\n",
        "    if 'eval_accuracy' in log and 'epoch' in log:\n",
        "        epochs_acc.append(log[\"epoch\"])\n",
        "        eval_accuracy.append(log[\"eval_accuracy\"])\n",
        "\n",
        "# Plot loss and accuracy\n",
        "import matplotlib.pyplot as plt\n",
        "\n",
        "plt.figure(figsize=(12, 5))\n",
        "\n",
        "plt.subplot(1, 2, 1)\n",
        "plt.plot(epochs_loss, train_loss, marker='o')\n",
        "plt.title(\"Training Loss per Epoch\")\n",
        "plt.xlabel(\"Epoch\")\n",
        "plt.ylabel(\"Loss\")\n",
        "\n",
        "plt.subplot(1, 2, 2)\n",
        "plt.plot(epochs_acc, eval_accuracy, marker='o', color='green')\n",
        "plt.title(\"Evaluation Accuracy per Epoch\")\n",
        "plt.xlabel(\"Epoch\")\n",
        "plt.ylabel(\"Accuracy\")\n",
        "\n",
        "plt.tight_layout()\n",
        "plt.show()\n"
      ],
      "metadata": {
        "colab": {
          "base_uri": "https://localhost:8080/",
          "height": 507
        },
        "id": "kmWKlGB5iurF",
        "outputId": "aba10ba1-4e02-4205-b401-6a885894d51f"
      },
      "execution_count": null,
      "outputs": [
        {
          "output_type": "display_data",
          "data": {
            "text/plain": [
              "<Figure size 1200x500 with 2 Axes>"
            ],
            "image/png": "[encoded data removed]"
          },
          "metadata": {}
        }
      ]
    },
    {
      "cell_type": "code",
      "source": [
        "from sklearn.metrics import confusion_matrix, ConfusionMatrixDisplay\n",
        "import matplotlib.pyplot as plt\n",
        "\n",
        "# Define class names\n",
        "class_names = [\"Insoluble\", \"Slightly Soluble\", \"Soluble\"]\n",
        "\n",
        "# Generate confusion matrix\n",
        "cm = confusion_matrix(y_true, y_pred)\n",
        "\n",
        "# Display it\n",
        "disp = ConfusionMatrixDisplay(confusion_matrix=cm, display_labels=class_names)\n",
        "disp.plot(cmap='Blues', values_format='d')\n",
        "plt.title(\"Confusion Matrix\")\n",
        "plt.show()\n"
      ],
      "metadata": {
        "colab": {
          "base_uri": "https://localhost:8080/",
          "height": 472
        },
        "id": "1uqsr-e5i51t",
        "outputId": "0b9fb2ea-fb97-4592-a767-d63a59afec8f"
      },
      "execution_count": null,
      "outputs": [
        {
          "output_type": "display_data",
          "data": {
            "text/plain": [
              "<Figure size 640x480 with 2 Axes>"
            ],
            "image/png": "[encoded data removed]"
          },
          "metadata": {}
        }
      ]
    },
    {
      "cell_type": "code",
      "source": [
        "# 12. Save the model and tokenizer\n",
        "model_path = \"./chemberta_model_final\"\n",
        "model.save_pretrained(model_path)\n",
        "tokenizer.save_pretrained(model_path)\n",
        "\n",
        "print(f\"Model and tokenizer saved to: {model_path}\")"
      ],
      "metadata": {
        "colab": {
          "base_uri": "https://localhost:8080/"
        },
        "id": "95ITHN34kFBM",
        "outputId": "0ad1cb3e-33dc-405b-99ee-758dae324e01"
      },
      "execution_count": null,
      "outputs": [
        {
          "output_type": "stream",
          "name": "stdout",
          "text": [
            "Model and tokenizer saved to: ./chemberta_model_final\n"
          ]
        }
      ]
    },
    {
      "cell_type": "code",
      "source": [
        "!mkdir -p /content/drive/MyDrive/Models/chemberta-solubility"
      ],
      "metadata": {
        "id": "n5qUKrjqkRUM"
      },
      "execution_count": null,
      "outputs": []
    },
    {
      "cell_type": "code",
      "source": [
        "# save it in drive\n",
        "model.save_pretrained(\"/content/drive/MyDrive/Models/chemberta-solubility\")\n",
        "tokenizer.save_pretrained(\"/content/drive/MyDrive/Models/chemberta-solubility\")"
      ],
      "metadata": {
        "colab": {
          "base_uri": "https://localhost:8080/"
        },
        "id": "iP9GlKNpkJp8",
        "outputId": "af274641-4463-43ce-f821-007acb825994"
      },
      "execution_count": null,
      "outputs": [
        {
          "output_type": "execute_result",
          "data": {
            "text/plain": [
              "('/content/drive/MyDrive/Models/chemberta-solubility/tokenizer_config.json',\n",
              " '/content/drive/MyDrive/Models/chemberta-solubility/special_tokens_map.json',\n",
              " '/content/drive/MyDrive/Models/chemberta-solubility/vocab.json',\n",
              " '/content/drive/MyDrive/Models/chemberta-solubility/merges.txt',\n",
              " '/content/drive/MyDrive/Models/chemberta-solubility/added_tokens.json',\n",
              " '/content/drive/MyDrive/Models/chemberta-solubility/tokenizer.json')"
            ]
          },
          "metadata": {},
          "execution_count": 36
        }
      ]
    },
    {
      "cell_type": "markdown",
      "source": [
        "# UI"
      ],
      "metadata": {
        "id": "PL2SOsK3Rvt6"
      }
    },
    {
      "cell_type": "code",
      "source": [
        "!pip install streamlit torch transformers"
      ],
      "metadata": {
        "id": "FQF34IaDRzdJ"
      },
      "execution_count": null,
      "outputs": []
    },
    {
      "cell_type": "markdown",
      "source": [
        "1. source DL_assignment/Scripts/activate\n",
        "  --- pip install -r req.txt --> only once\n",
        "2. streamlit run app.py"
      ],
      "metadata": {
        "id": "94PTp0skLL9m"
      }
    },
    {
      "cell_type": "code",
      "source": [
        "import streamlit as st\n",
        "import torch\n",
        "import numpy as np\n",
        "from transformers import AutoTokenizer, AutoModelForSequenceClassification\n",
        "\n",
        "# -------------------------------\n",
        "# Load model and tokenizer\n",
        "# -------------------------------\n",
        "MODEL_PATH = \"./chemberta-solubility\"  # Update if saved elsewhere\n",
        "\n",
        "@st.cache_resource\n",
        "def load_model():\n",
        "    tokenizer = AutoTokenizer.from_pretrained(MODEL_PATH)\n",
        "    model = AutoModelForSequenceClassification.from_pretrained(MODEL_PATH)\n",
        "    model.eval()\n",
        "    return tokenizer, model\n",
        "\n",
        "tokenizer, model = load_model()\n",
        "\n",
        "# -------------------------------\n",
        "# Define classes\n",
        "# -------------------------------\n",
        "class_labels = [\"Insoluble\", \"Slightly Soluble\", \"Soluble\"]\n",
        "\n",
        "# -------------------------------\n",
        "# Streamlit UI\n",
        "# -------------------------------\n",
        "st.title(\"ChemBERTa Solubility Predictor\")\n",
        "st.write(\"Enter a **SMILES string** to predict its solubility class.\")\n",
        "\n",
        "# Input\n",
        "smiles_input = st.text_input(\"SMILES String:\", value=\"CC(=O)Oc1ccccc1C(=O)O\")\n",
        "\n",
        "if st.button(\"Predict\"):\n",
        "    if not smiles_input.strip():\n",
        "        st.warning(\"Please enter a valid SMILES string.\")\n",
        "    else:\n",
        "        with st.spinner(\"Predicting...\"):\n",
        "            # Tokenize\n",
        "            inputs = tokenizer(smiles_input, return_tensors=\"pt\", truncation=True, padding=True, max_length=128)\n",
        "            with torch.no_grad():\n",
        "                outputs = model(**inputs)\n",
        "                probs = torch.softmax(outputs.logits, dim=1).squeeze().numpy()\n",
        "                predicted_class = np.argmax(probs)\n",
        "\n",
        "        # Display results\n",
        "        st.success(f\"**Predicted Solubility Class:** {class_labels[predicted_class]}\")\n",
        "        st.markdown(\"**Model Confidence:**\")\n",
        "        confidence_chart = {label: float(probs[i]) for i, label in enumerate(class_labels)}\n",
        "        st.bar_chart(confidence_chart)\n",
        "\n",
        "# Footer\n",
        "st.markdown(\"---\")\n",
        "st.markdown(\"Created with using ChemBERTa and Streamlit\")\n"
      ],
      "metadata": {
        "id": "smo_mLPcLLal"
      },
      "execution_count": null,
      "outputs": []
    }
  ]
}